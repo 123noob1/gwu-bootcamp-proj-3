{
 "cells": [
  {
   "cell_type": "code",
   "execution_count": 52,
   "id": "d3afa587",
   "metadata": {},
   "outputs": [],
   "source": [
    "# Import dependencies\n",
    "from api_key import api_key\n",
    "from jsonschema import validate\n",
    "import json\n",
    "import requests\n",
    "import pandas as pd"
   ]
  },
  {
   "cell_type": "code",
   "execution_count": 53,
   "id": "bac5547c",
   "metadata": {},
   "outputs": [],
   "source": [
    "# Set up Yelp API constants\n",
    "API_HOST = 'https://api.yelp.com/v3/businesses/search'\n",
    "HEADERS = {\n",
    "    'Authorization': 'bearer %s' % api_key\n",
    "}\n",
    "\n",
    "# Schema for comparing in checking before extraction\n",
    "schema = {\n",
    "    'alias': '',\n",
    "    'categories': [],\n",
    "    'coordinates': {},\n",
    "    'display_phone': '',\n",
    "    'distance': 0.00,\n",
    "    'id': 'string',\n",
    "    'image_url': '',\n",
    "    'is_closed': True,\n",
    "    'location': {},\n",
    "    'name': '',\n",
    "    'phone': '',\n",
    "    'price': '',\n",
    "    'rating': 0.0,\n",
    "    'review_count': 0,\n",
    "    'transaction': [],\n",
    "    'url': ''\n",
    "}"
   ]
  },
  {
   "cell_type": "code",
   "execution_count": 54,
   "id": "bdb2bcbc",
   "metadata": {},
   "outputs": [],
   "source": [
    "# Simple request function for bussiness search endpoint from Yelp API\n",
    "def request(term = '', limit = 0, rad = 0, loc = ''):\n",
    "    # Create the parameters for search\n",
    "    params = {\n",
    "        'term': term,\n",
    "        'limit': limit,\n",
    "        'radius': rad,\n",
    "        'location': loc\n",
    "    }\n",
    "    \n",
    "    # Send the request\n",
    "    response = requests.get(API_HOST, headers = HEADERS, params = params)\n",
    "    \n",
    "    # Verify the response and return None if error returned else return the json data\n",
    "    if 'error' in response.json().keys():\n",
    "        return None\n",
    "    else:\n",
    "        return response.json()\n",
    "\n",
    "# Function to verify the predefined schema on what we should be expecting before extracting\n",
    "def verify_schema(data = None):\n",
    "    \n",
    "    # Verify the object entered before extraction\n",
    "    if data == None:\n",
    "        return False\n",
    "    elif not isinstance(data, dict):\n",
    "        return False\n",
    "    else:\n",
    "        try:\n",
    "            validate(instance=data['businesses'][0], schema=schema)\n",
    "            return True\n",
    "        except:\n",
    "            return False\n",
    "\n",
    "# Function to extract the id, name, price, rating, review_count, location (address 1, address 2, address 3, city, \n",
    "# state, zip_code), coordinates (latitude and longtitude), and phone into a DataFrame\n",
    "def json_to_dataframe(data = None):\n",
    "    if not verify_schema(data):\n",
    "        return None\n",
    "    else:\n",
    "        data_df = pd.DataFrame(data['businesses'])\n",
    "        return data_df"
   ]
  },
  {
   "cell_type": "code",
   "execution_count": 60,
   "id": "dfbf2731",
   "metadata": {},
   "outputs": [],
   "source": [
    "test_starbuck = request('starbucks', limit = 50, rad = 1000, loc = 'NYC')\n",
    "\n",
    "startbucks_df = json_to_dataframe(test_starbuck)\n",
    "startbucks_df.head()\n",
    "startbucks_df.to_csv('starbucks.csv', index = True)"
   ]
  },
  {
   "cell_type": "code",
   "execution_count": null,
   "id": "a2ae1efa",
   "metadata": {},
   "outputs": [],
   "source": []
  }
 ],
 "metadata": {
  "kernelspec": {
   "display_name": "Python 3 (ipykernel)",
   "language": "python",
   "name": "python3"
  },
  "language_info": {
   "codemirror_mode": {
    "name": "ipython",
    "version": 3
   },
   "file_extension": ".py",
   "mimetype": "text/x-python",
   "name": "python",
   "nbconvert_exporter": "python",
   "pygments_lexer": "ipython3",
   "version": "3.11.5"
  }
 },
 "nbformat": 4,
 "nbformat_minor": 5
}
