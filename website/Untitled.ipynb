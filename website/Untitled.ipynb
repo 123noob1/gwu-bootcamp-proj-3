{
 "cells": [
  {
   "cell_type": "code",
   "execution_count": null,
   "id": "d8d26862",
   "metadata": {},
   "outputs": [],
   "source": [
    "import pull\n",
    "# shop\n",
    "# > ID (str) PK\n",
    "# > name (str)\n",
    "# > review_count (int)\n",
    "# > rating (float)\n",
    "# > price (str)\n",
    "# > price_point (int) \n",
    "# > address_Id (int) FK\n",
    "\n",
    "# address\n",
    "# > id (index) PK\n",
    "# > address1 (str)\n",
    "# > address2 (str)\n",
    "# > address3 (str)\n",
    "# > city (str)\n",
    "# > zip (str)\n",
    "# > country (str)\n",
    "# > state (str)\n",
    "# > lon (double)\n",
    "# > lat (double)"
   ]
  }
 ],
 "metadata": {
  "kernelspec": {
   "display_name": "Python 3 (ipykernel)",
   "language": "python",
   "name": "python3"
  },
  "language_info": {
   "codemirror_mode": {
    "name": "ipython",
    "version": 3
   },
   "file_extension": ".py",
   "mimetype": "text/x-python",
   "name": "python",
   "nbconvert_exporter": "python",
   "pygments_lexer": "ipython3",
   "version": "3.11.5"
  }
 },
 "nbformat": 4,
 "nbformat_minor": 5
}
